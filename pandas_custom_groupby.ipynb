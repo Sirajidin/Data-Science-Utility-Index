{
 "cells": [
  {
   "cell_type": "code",
   "execution_count": 1,
   "metadata": {},
   "outputs": [],
   "source": [
    "import numpy as np\n",
    "import pandas as pd\n",
    "\n",
    "def custom_groupby(\n",
    "        df,\n",
    "        groupby_cols=['search_str'],\n",
    "        groupby_expressions=[\n",
    "            {'new_col': '搜索次数', 'original_col': 'user_id', 'function': 'numpy.size'},\n",
    "            {'new_col': '搜索人数', 'original_col': 'user_id', 'function': 'pd.Series.nunique'},\n",
    "            {'new_col': '搜索平台数', 'original_col': 'platform_id', 'function': 'pd.Series.nunique'}\n",
    "        ],\n",
    "        improt_numpy_and_pandas=False\n",
    "\n",
    "):\n",
    "    if improt_numpy_and_pandas:\n",
    "        import numpy as np\n",
    "        import pandas as pd\n",
    "    raw_code = [f'''df.groupby({groupby_cols},sort=False).agg(''']\n",
    "    for item in groupby_expressions:\n",
    "        raw_code.append(f'''{item['new_col']}=('{item['original_col']}',{item['function']}),''')\n",
    "    raw_code.append(')')\n",
    "    return eval(''.join(raw_code))\n",
    "\n",
    "\n",
    "def custom_groupby_inner(df, col_name, percentile=80):\n",
    "    df['占比'] = np.round(df[col_name] / df[col_name].sum() * 100, 2)\n",
    "    df.sort_values(by='占比', ascending=False, inplace=True)\n",
    "    df['cumsum'] = df['占比'].cumsum()\n",
    "    if len(df[df['cumsum'] <= percentile]) > 0:\n",
    "        df = df[df['cumsum'] <= percentile]\n",
    "    else:\n",
    "        df = df[:1]\n",
    "    percentage_str = [(df.at[index, '占比'], index) for index in df.index]\n",
    "    del df\n",
    "    percentage_str = '、'.join(str(item) for item in percentage_str)\n",
    "    return percentage_str"
   ]
  },
  {
   "cell_type": "code",
   "execution_count": null,
   "metadata": {},
   "outputs": [],
   "source": [
    "tobe_grouped_df = sku_click_detail_ufen_v2_df.groupby('SKU_code')\n",
    "    del sku_click_detail_ufen_v2_df\n",
    "    sku_click = pd.DataFrame()\n",
    "    for group_name, df in tobe_grouped_df:\n",
    "        df_grouped = custom_groupby(df=df, groupby_cols=['SKU_code'], groupby_expressions=[\n",
    "            {'new_col': '点击次数', 'original_col': 'user_id', 'function': 'np.size'},\n",
    "            {'new_col': '点击人数', 'original_col': 'user_id', 'function': 'pd.Series.nunique'},\n",
    "            {'new_col': '点击平台数', 'original_col': 'platform_id', 'function': 'pd.Series.nunique'}\n",
    "        ])\n",
    "        df_grouped_inner = custom_groupby(df=df, groupby_cols=['点击来源'], groupby_expressions=[\n",
    "            {'new_col': '点击次数', 'original_col': 'user_id', 'function': 'np.size'}\n",
    "        ])\n",
    "        percentage = custom_groupby_inner(df=df_grouped_inner, col_name='点击次数', percentile=100)\n",
    "        del df_grouped_inner\n",
    "        df_grouped['来源点击次数占比（占比，来源）'] = percentage\n",
    "        sku_click = pd.concat([sku_click, df_grouped])\n",
    "    sku_click.reset_index(inplace=True)\n",
    "    del tobe_grouped_df"
   ]
  }
 ],
 "metadata": {
  "kernelspec": {
   "display_name": "Python 3",
   "language": "python",
   "name": "python3"
  },
  "language_info": {
   "codemirror_mode": {
    "name": "ipython",
    "version": 3
   },
   "file_extension": ".py",
   "mimetype": "text/x-python",
   "name": "python",
   "nbconvert_exporter": "python",
   "pygments_lexer": "ipython3",
   "version": "3.7.9"
  }
 },
 "nbformat": 4,
 "nbformat_minor": 4
}
