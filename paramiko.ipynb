{
 "cells": [
  {
   "cell_type": "code",
   "execution_count": 1,
   "metadata": {},
   "outputs": [],
   "source": [
    "# ssh root:Xinfuli20170208,@182.92.233.89"
   ]
  },
  {
   "cell_type": "code",
   "execution_count": 23,
   "metadata": {},
   "outputs": [
    {
     "name": "stdout",
     "output_type": "stream",
     "text": [
      "b''\n",
      "b''\n"
     ]
    }
   ],
   "source": [
    "# 清理 中 /opt/bi/UFENBI/media/Reports/Report_Result/excel  .xlsx 文件\n",
    "import paramiko\n",
    "ssh = paramiko.SSHClient()\n",
    "ssh.set_missing_host_key_policy(paramiko.AutoAddPolicy())\n",
    "ssh.connect('', username='root', password='')\n",
    "\n",
    "stdin, stdout, stderr = ssh.exec_command('''\n",
    "cd /opt/bi/UFENBI/media/Reports/Report_Result/excel;\n",
    "rm *.xlsx -f;\n",
    "''')\n",
    "# print(stdin.read())\n",
    "print(stdout.read())\n",
    "print(stderr.read())\n",
    "ssh.close()"
   ]
  },
  {
   "cell_type": "code",
   "execution_count": 24,
   "metadata": {},
   "outputs": [
    {
     "name": "stdout",
     "output_type": "stream",
     "text": [
      "b''\n"
     ]
    }
   ],
   "source": [
    "# 压缩 /opt/bi/UFENBI 后移动到 /opt/bi/UFENBI-BACKUP\n",
    "import datetime\n",
    "date='_'+str(datetime.datetime.now()).replace(':', '-').replace(' ', '_').split('.')[0]\n",
    "import paramiko\n",
    "ssh = paramiko.SSHClient()\n",
    "ssh.set_missing_host_key_policy(paramiko.AutoAddPolicy())\n",
    "ssh.connect('', username='root', password='')\n",
    "\n",
    "stdin, stdout, stderr = ssh.exec_command(f'''\n",
    "cd /opt/bi/UFENBI;\n",
    "tar --exclude=/opt/bi/UFENBI-BACKUP/UFENBI{date}.tar.gz -czvf /opt/bi/UFENBI-BACKUP/UFENBI{date}.tar.gz * ;\n",
    "''')\n",
    "# print(stdin.read())\n",
    "# print(stdout.read())\n",
    "print(stderr.read())\n",
    "ssh.close()"
   ]
  },
  {
   "cell_type": "code",
   "execution_count": 25,
   "metadata": {},
   "outputs": [
    {
     "name": "stdout",
     "output_type": "stream",
     "text": [
      "b''\n"
     ]
    }
   ],
   "source": [
    "# 清空 /opt/bi/UFENBI \n",
    "import paramiko\n",
    "ssh = paramiko.SSHClient()\n",
    "ssh.set_missing_host_key_policy(paramiko.AutoAddPolicy())\n",
    "ssh.connect('', username='', password=',')\n",
    "stdin, stdout, stderr = ssh.exec_command(f'''\n",
    "cd /opt/bi/UFENBI;\n",
    "rm * -rf;\n",
    "''')\n",
    "# print(stdin.read())\n",
    "# print(stdout.read())\n",
    "print(stderr.read())\n",
    "ssh.close()"
   ]
  },
  {
   "cell_type": "code",
   "execution_count": 15,
   "metadata": {},
   "outputs": [
    {
     "name": "stdout",
     "output_type": "stream",
     "text": [
      "b''\n"
     ]
    }
   ],
   "source": [
    "# 复制 /opt/bi/UFENBI-DEV 的内容到 /opt/bi/UFENBI\n",
    "import paramiko\n",
    "ssh = paramiko.SSHClient()\n",
    "ssh.set_missing_host_key_policy(paramiko.AutoAddPolicy())\n",
    "ssh.connect('', username='root', password='')\n",
    "stdin, stdout, stderr = ssh.exec_command(f'''\n",
    "cp -r /opt/bi/UFENBI-DEV/.  /opt/bi/UFENBI;\n",
    "''')\n",
    "# print(stdin.read())\n",
    "# print(stdout.read())\n",
    "print(stderr.read())\n",
    "ssh.close()"
   ]
  },
  {
   "cell_type": "code",
   "execution_count": null,
   "metadata": {},
   "outputs": [],
   "source": [
    "# 更改 /opt/bi/UFENBI 中 settings和views 里的某些值\n",
    "# 停止 celery 和 django的 进程\n",
    "    # ps aux|grep celery\n",
    "    # netstat -anp |grep 8009"
   ]
  },
  {
   "cell_type": "code",
   "execution_count": null,
   "metadata": {},
   "outputs": [],
   "source": [
    "pkill -9 -f 'celery worker'"
   ]
  },
  {
   "cell_type": "code",
   "execution_count": 6,
   "metadata": {},
   "outputs": [
    {
     "name": "stdout",
     "output_type": "stream",
     "text": [
      "b''\n"
     ]
    }
   ],
   "source": [
    "# 启动 celery  进程\n",
    "import paramiko\n",
    "\n",
    "ssh = paramiko.SSHClient()\n",
    "ssh.set_missing_host_key_policy(paramiko.AutoAddPolicy())\n",
    "ssh.connect('', username='root', password='')\n",
    "stdin, stdout, stderr = ssh.exec_command('''\n",
    "cd /opt/bi/UFENBI;\n",
    "\n",
    "pkill celery;\n",
    "pkill -9 -f 'celery';\n",
    "pkill -9 -f 'celery worker';\n",
    "\n",
    "''')\n",
    "# print(stdin.read())\n",
    "# print(stdout.read())\n",
    "print(stderr.read())\n",
    "ssh.close()"
   ]
  },
  {
   "cell_type": "code",
   "execution_count": 7,
   "metadata": {},
   "outputs": [
    {
     "name": "stdout",
     "output_type": "stream",
     "text": [
      "b''\n"
     ]
    }
   ],
   "source": [
    "# 启动 celery  进程\n",
    "import paramiko\n",
    "\n",
    "ssh = paramiko.SSHClient()\n",
    "ssh.set_missing_host_key_policy(paramiko.AutoAddPolicy())\n",
    "ssh.connect('', username='root', password='')\n",
    "stdin, stdout, stderr = ssh.exec_command('''\n",
    "cd /opt/bi/UFENBI;\n",
    "\n",
    "sh celery_query_1.sh;\n",
    "sh celery_query_2.sh;\n",
    "sh celery.sh;\n",
    "\n",
    "''')\n",
    "# print(stdin.read())\n",
    "# print(stdout.read())\n",
    "print(stderr.read())\n",
    "ssh.close()"
   ]
  },
  {
   "cell_type": "code",
   "execution_count": null,
   "metadata": {},
   "outputs": [],
   "source": []
  },
  {
   "cell_type": "code",
   "execution_count": 3,
   "metadata": {},
   "outputs": [
    {
     "name": "stdout",
     "output_type": "stream",
     "text": [
      "b'8009/tcp:           \\n'\n"
     ]
    }
   ],
   "source": [
    "# 启动 celery 和 django的 进程\n",
    "import paramiko\n",
    "\n",
    "ssh = paramiko.SSHClient()\n",
    "ssh.set_missing_host_key_policy(paramiko.AutoAddPolicy())\n",
    "ssh.connect('', username='root', password='')\n",
    "stdin, stdout, stderr = ssh.exec_command('''\n",
    "cd /opt/bi/UFENBI;\n",
    "fuser -k 8009/tcp;\n",
    "sh run.sh;\n",
    "''')\n",
    "# print(stdin.read())\n",
    "# print(stdout.read())\n",
    "print(stderr.read())\n",
    "ssh.close()"
   ]
  },
  {
   "cell_type": "code",
   "execution_count": null,
   "metadata": {},
   "outputs": [],
   "source": []
  },
  {
   "cell_type": "code",
   "execution_count": null,
   "metadata": {},
   "outputs": [],
   "source": [
    "# #Using 'tar'\n",
    "#     'tar' just assembles the files together into only one file. There is no reduction in the size of these files (the tarball might even be bigger!)\n",
    "#package in a tarball\n",
    "    tar -cvf linux_notes.tar notes*.txt\n",
    "        c (--create) \n",
    "        v (--verbose-show what files they are) \n",
    "        f (--file -make a file - should always be the last option) \n",
    "    # for ALL files\n",
    "    tar -cvf linux_notes.tar *.*\n",
    "    # back up whole directories along with their corresponding subdirectories\n",
    "    tar -cvf bob_backup.tar *\n",
    "\n",
    "# #Using 'gzip'\n",
    "#     gzip is the preferred compression tool for Linux\n",
    "#     but gzip is used primarily with tarballs\n",
    "# reduce this file into a more manageable size\n",
    "gzip your_tar_file.tar  # -->  your_tar_file.tar.gz\n",
    "\n",
    "# add z to the options, and change the name of the file to create to a .gz extension\n",
    "tar -czvf bob_backup.tar.gz *\n",
    "\n",
    "\n",
    "# # untarring\n",
    "# The easiest way for doing this is to use 'tar' for the whole process\n",
    "tar -zxvpf my_tar_file.tar.gz\n",
    "    gzip -d my_tar_file.tar.gz  or gunzip my_tar_file.tar.gz  #(gunzip runs gzip -d \"automagically\"!)\n",
    "    #     These commands are good if you've just zipped a regular file (not a tarball).\n",
    "\n",
    "    -z - unzip the file first\n",
    "    -x - extract the files from the tarball\n",
    "    -v - \\&quot;verbose\\&quot; (i.e tar tells you what files it's extracting)\n",
    "    -p - preserves dates, permissions of the original files\n",
    "    -f - use the file in question (if you don't specify this, tar just sort of sits around doing nothing)\n",
    "# The files are extracted and your original tarball is preserved (my_tar_file.tar.gz).\n",
    "                                   "
   ]
  }
 ],
 "metadata": {
  "kernelspec": {
   "display_name": "Python 3",
   "language": "python",
   "name": "python3"
  },
  "language_info": {
   "codemirror_mode": {
    "name": "ipython",
    "version": 3
   },
   "file_extension": ".py",
   "mimetype": "text/x-python",
   "name": "python",
   "nbconvert_exporter": "python",
   "pygments_lexer": "ipython3",
   "version": "3.7.9"
  }
 },
 "nbformat": 4,
 "nbformat_minor": 4
}
