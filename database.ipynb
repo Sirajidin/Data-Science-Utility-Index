{
 "cells": [
  {
   "cell_type": "code",
   "execution_count": null,
   "metadata": {},
   "outputs": [],
   "source": [
    "import pandas as pd\n",
    "import MySQLdb\n",
    "\n",
    "\n",
    "def retrieve_to_frame(\n",
    "    sql, \n",
    "    host=\"\",\n",
    "    user=\"\",\n",
    "    passwd=\"=\",\n",
    "    db=\"\",\n",
    "    charset='utf8'\n",
    "):\n",
    "    \"\"\"\n",
    "    \"\"\"\n",
    "    conn = MySQLdb.connect(host=host, user=user, passwd=passwd,\n",
    "                           db=db, charset=charset)\n",
    "    sql = sql\n",
    "    result_df = pd.read_sql(sql, con=conn)\n",
    "    conn.close()\n",
    "    return result_df"
   ]
  }
 ],
 "metadata": {
  "kernelspec": {
   "display_name": "Python 3",
   "language": "python",
   "name": "python3"
  },
  "language_info": {
   "codemirror_mode": {
    "name": "ipython",
    "version": 3
   },
   "file_extension": ".py",
   "mimetype": "text/x-python",
   "name": "python",
   "nbconvert_exporter": "python",
   "pygments_lexer": "ipython3",
   "version": "3.8.3"
  }
 },
 "nbformat": 4,
 "nbformat_minor": 4
}
